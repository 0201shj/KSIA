{
 "cells": [
  {
   "cell_type": "markdown",
   "metadata": {
    "colab_type": "text",
    "id": "KCZ6x3heVYzI"
   },
   "source": [
    "### Step 1. 필요한 라이브러리 임포트"
   ]
  },
  {
   "cell_type": "code",
   "execution_count": 1,
   "metadata": {
    "colab": {},
    "colab_type": "code",
    "id": "7tfUgzrjVYzJ"
   },
   "outputs": [],
   "source": [
    "import pandas as pd"
   ]
  },
  {
   "cell_type": "markdown",
   "metadata": {
    "colab_type": "text",
    "id": "ETQYiRDwVYzM"
   },
   "source": [
    "### Step 2. [데이터](https://raw.githubusercontent.com/justmarkham/DAT8/master/data/u.user) 확인\n",
    "\n",
    "- user_id 유저 아이디\n",
    "- age 나이\n",
    "- gender 성별\n",
    "- occupation 직업\n",
    "- zip_code 우편번호"
   ]
  },
  {
   "cell_type": "markdown",
   "metadata": {
    "colab_type": "text",
    "id": "ktDQ-sIEVYzM"
   },
   "source": [
    "### Step 3. \n",
    "\n",
    "**read_csv를 통해 데이터를 올바른 형태로 불러온 뒤 users에 저장해주세요.**\n",
    "\n",
    "user_id를 인덱스로 설정해주세요."
   ]
  },
  {
   "cell_type": "code",
   "execution_count": 3,
   "metadata": {
    "colab": {},
    "colab_type": "code",
    "id": "crJAer8-VYzN"
   },
   "outputs": [],
   "source": [
    "url = 'https://raw.githubusercontent.com/justmarkham/DAT8/master/data/u.user'\n",
    "\n",
    "users = pd.read_csv(url)"
   ]
  },
  {
   "cell_type": "markdown",
   "metadata": {
    "colab_type": "text",
    "id": "GyW3hzw7VYzQ"
   },
   "source": [
    "### Step 4. 초반 25행 조회"
   ]
  },
  {
   "cell_type": "code",
   "execution_count": 4,
   "metadata": {
    "colab": {
     "base_uri": "https://localhost:8080/",
     "height": 855
    },
    "colab_type": "code",
    "executionInfo": {
     "elapsed": 6433,
     "status": "ok",
     "timestamp": 1571342898459,
     "user": {
      "displayName": "kang sanghun",
      "photoUrl": "",
      "userId": "12450865979153508193"
     },
     "user_tz": -540
    },
    "id": "tzNwkbQHVYzQ",
    "outputId": "1b7929cd-d156-4b75-92ba-d93097062d50",
    "scrolled": true
   },
   "outputs": [
    {
     "data": {
      "text/html": [
       "<div>\n",
       "<style scoped>\n",
       "    .dataframe tbody tr th:only-of-type {\n",
       "        vertical-align: middle;\n",
       "    }\n",
       "\n",
       "    .dataframe tbody tr th {\n",
       "        vertical-align: top;\n",
       "    }\n",
       "\n",
       "    .dataframe thead th {\n",
       "        text-align: right;\n",
       "    }\n",
       "</style>\n",
       "<table border=\"1\" class=\"dataframe\">\n",
       "  <thead>\n",
       "    <tr style=\"text-align: right;\">\n",
       "      <th></th>\n",
       "      <th>user_id|age|gender|occupation|zip_code</th>\n",
       "    </tr>\n",
       "  </thead>\n",
       "  <tbody>\n",
       "    <tr>\n",
       "      <th>0</th>\n",
       "      <td>1|24|M|technician|85711</td>\n",
       "    </tr>\n",
       "    <tr>\n",
       "      <th>1</th>\n",
       "      <td>2|53|F|other|94043</td>\n",
       "    </tr>\n",
       "    <tr>\n",
       "      <th>2</th>\n",
       "      <td>3|23|M|writer|32067</td>\n",
       "    </tr>\n",
       "    <tr>\n",
       "      <th>3</th>\n",
       "      <td>4|24|M|technician|43537</td>\n",
       "    </tr>\n",
       "    <tr>\n",
       "      <th>4</th>\n",
       "      <td>5|33|F|other|15213</td>\n",
       "    </tr>\n",
       "    <tr>\n",
       "      <th>5</th>\n",
       "      <td>6|42|M|executive|98101</td>\n",
       "    </tr>\n",
       "    <tr>\n",
       "      <th>6</th>\n",
       "      <td>7|57|M|administrator|91344</td>\n",
       "    </tr>\n",
       "    <tr>\n",
       "      <th>7</th>\n",
       "      <td>8|36|M|administrator|05201</td>\n",
       "    </tr>\n",
       "    <tr>\n",
       "      <th>8</th>\n",
       "      <td>9|29|M|student|01002</td>\n",
       "    </tr>\n",
       "    <tr>\n",
       "      <th>9</th>\n",
       "      <td>10|53|M|lawyer|90703</td>\n",
       "    </tr>\n",
       "    <tr>\n",
       "      <th>10</th>\n",
       "      <td>11|39|F|other|30329</td>\n",
       "    </tr>\n",
       "    <tr>\n",
       "      <th>11</th>\n",
       "      <td>12|28|F|other|06405</td>\n",
       "    </tr>\n",
       "    <tr>\n",
       "      <th>12</th>\n",
       "      <td>13|47|M|educator|29206</td>\n",
       "    </tr>\n",
       "    <tr>\n",
       "      <th>13</th>\n",
       "      <td>14|45|M|scientist|55106</td>\n",
       "    </tr>\n",
       "    <tr>\n",
       "      <th>14</th>\n",
       "      <td>15|49|F|educator|97301</td>\n",
       "    </tr>\n",
       "    <tr>\n",
       "      <th>15</th>\n",
       "      <td>16|21|M|entertainment|10309</td>\n",
       "    </tr>\n",
       "    <tr>\n",
       "      <th>16</th>\n",
       "      <td>17|30|M|programmer|06355</td>\n",
       "    </tr>\n",
       "    <tr>\n",
       "      <th>17</th>\n",
       "      <td>18|35|F|other|37212</td>\n",
       "    </tr>\n",
       "    <tr>\n",
       "      <th>18</th>\n",
       "      <td>19|40|M|librarian|02138</td>\n",
       "    </tr>\n",
       "    <tr>\n",
       "      <th>19</th>\n",
       "      <td>20|42|F|homemaker|95660</td>\n",
       "    </tr>\n",
       "    <tr>\n",
       "      <th>20</th>\n",
       "      <td>21|26|M|writer|30068</td>\n",
       "    </tr>\n",
       "    <tr>\n",
       "      <th>21</th>\n",
       "      <td>22|25|M|writer|40206</td>\n",
       "    </tr>\n",
       "    <tr>\n",
       "      <th>22</th>\n",
       "      <td>23|30|F|artist|48197</td>\n",
       "    </tr>\n",
       "    <tr>\n",
       "      <th>23</th>\n",
       "      <td>24|21|F|artist|94533</td>\n",
       "    </tr>\n",
       "    <tr>\n",
       "      <th>24</th>\n",
       "      <td>25|39|M|engineer|55107</td>\n",
       "    </tr>\n",
       "  </tbody>\n",
       "</table>\n",
       "</div>"
      ],
      "text/plain": [
       "   user_id|age|gender|occupation|zip_code\n",
       "0                 1|24|M|technician|85711\n",
       "1                      2|53|F|other|94043\n",
       "2                     3|23|M|writer|32067\n",
       "3                 4|24|M|technician|43537\n",
       "4                      5|33|F|other|15213\n",
       "5                  6|42|M|executive|98101\n",
       "6              7|57|M|administrator|91344\n",
       "7              8|36|M|administrator|05201\n",
       "8                    9|29|M|student|01002\n",
       "9                    10|53|M|lawyer|90703\n",
       "10                    11|39|F|other|30329\n",
       "11                    12|28|F|other|06405\n",
       "12                 13|47|M|educator|29206\n",
       "13                14|45|M|scientist|55106\n",
       "14                 15|49|F|educator|97301\n",
       "15            16|21|M|entertainment|10309\n",
       "16               17|30|M|programmer|06355\n",
       "17                    18|35|F|other|37212\n",
       "18                19|40|M|librarian|02138\n",
       "19                20|42|F|homemaker|95660\n",
       "20                   21|26|M|writer|30068\n",
       "21                   22|25|M|writer|40206\n",
       "22                   23|30|F|artist|48197\n",
       "23                   24|21|F|artist|94533\n",
       "24                 25|39|M|engineer|55107"
      ]
     },
     "execution_count": 4,
     "metadata": {},
     "output_type": "execute_result"
    }
   ],
   "source": [
    "users.head(25)"
   ]
  },
  {
   "cell_type": "markdown",
   "metadata": {
    "colab_type": "text",
    "id": "KGmFIu-mVYzU"
   },
   "source": [
    "### Step 5. 마지막 10행 조회"
   ]
  },
  {
   "cell_type": "code",
   "execution_count": null,
   "metadata": {
    "colab": {
     "base_uri": "https://localhost:8080/",
     "height": 390
    },
    "colab_type": "code",
    "executionInfo": {
     "elapsed": 6424,
     "status": "ok",
     "timestamp": 1571342898459,
     "user": {
      "displayName": "kang sanghun",
      "photoUrl": "",
      "userId": "12450865979153508193"
     },
     "user_tz": -540
    },
    "id": "qvi0g7fxVYzU",
    "outputId": "d5307178-5242-4e2a-9ee0-199d4e1fedf8",
    "scrolled": true
   },
   "outputs": [],
   "source": [
    "users.tail(10)"
   ]
  },
  {
   "cell_type": "markdown",
   "metadata": {
    "colab_type": "text",
    "id": "qciQNL3mVYzX"
   },
   "source": [
    "### Step 6. 데이터셋은 몇 개의 행으로 이루어져 있나요?\n",
    "\n",
    "943"
   ]
  },
  {
   "cell_type": "code",
   "execution_count": null,
   "metadata": {
    "colab": {
     "base_uri": "https://localhost:8080/",
     "height": 34
    },
    "colab_type": "code",
    "executionInfo": {
     "elapsed": 6417,
     "status": "ok",
     "timestamp": 1571342898460,
     "user": {
      "displayName": "kang sanghun",
      "photoUrl": "",
      "userId": "12450865979153508193"
     },
     "user_tz": -540
    },
    "id": "MppHcIx0VYzX",
    "outputId": "12706044-01be-42e3-9db5-662541856cc0"
   },
   "outputs": [],
   "source": [
    "users.shape[0]"
   ]
  },
  {
   "cell_type": "markdown",
   "metadata": {
    "colab_type": "text",
    "id": "PEw7OnTWVYza"
   },
   "source": [
    "### Step 7.  데이터셋은 몇 개의 열로 이루어져 있나요?\n",
    "\n",
    "4"
   ]
  },
  {
   "cell_type": "code",
   "execution_count": null,
   "metadata": {
    "colab": {
     "base_uri": "https://localhost:8080/",
     "height": 34
    },
    "colab_type": "code",
    "executionInfo": {
     "elapsed": 6410,
     "status": "ok",
     "timestamp": 1571342898460,
     "user": {
      "displayName": "kang sanghun",
      "photoUrl": "",
      "userId": "12450865979153508193"
     },
     "user_tz": -540
    },
    "id": "JKD85VN7VYza",
    "outputId": "625f10a6-9ed4-4bb7-af0c-c757512ea0d5"
   },
   "outputs": [],
   "source": [
    "users.shape[1]"
   ]
  },
  {
   "cell_type": "markdown",
   "metadata": {
    "colab_type": "text",
    "id": "t27VIXOlVYzd"
   },
   "source": [
    "### Step 8. 열(column)의 이름들을 모두 조회해주세요\n",
    "\n",
    "Index(['age', 'gender', 'occupation', 'zip_code'], dtype='object')"
   ]
  },
  {
   "cell_type": "code",
   "execution_count": null,
   "metadata": {
    "colab": {
     "base_uri": "https://localhost:8080/",
     "height": 34
    },
    "colab_type": "code",
    "executionInfo": {
     "elapsed": 6404,
     "status": "ok",
     "timestamp": 1571342898461,
     "user": {
      "displayName": "kang sanghun",
      "photoUrl": "",
      "userId": "12450865979153508193"
     },
     "user_tz": -540
    },
    "id": "xM6-iH1jVYzd",
    "outputId": "f95c53b9-6c48-466e-d4d2-bda311efc10c"
   },
   "outputs": [],
   "source": [
    "users.columns"
   ]
  },
  {
   "cell_type": "markdown",
   "metadata": {
    "colab_type": "text",
    "id": "2dwISsORVYzg"
   },
   "source": [
    "### Step 9. 데이터셋의 인덱스를 조회해주세요\n",
    "\n",
    "Int64Index([  1,   2,   3,   4,   5,   6,   7,   8,   9,  10,\n",
    "            ...\n",
    "            934, 935, 936, 937, 938, 939, 940, 941, 942, 943],\n",
    "           dtype='int64', name='user_id', length=943)"
   ]
  },
  {
   "cell_type": "code",
   "execution_count": null,
   "metadata": {
    "colab": {
     "base_uri": "https://localhost:8080/",
     "height": 85
    },
    "colab_type": "code",
    "executionInfo": {
     "elapsed": 6399,
     "status": "ok",
     "timestamp": 1571342898462,
     "user": {
      "displayName": "kang sanghun",
      "photoUrl": "",
      "userId": "12450865979153508193"
     },
     "user_tz": -540
    },
    "id": "4QcUCpT2VYzg",
    "outputId": "b188cb3a-2ecd-43cc-b60b-cab0cdbc4548"
   },
   "outputs": [],
   "source": [
    "# \"the index\" (aka \"the labels\")\n",
    "users.index"
   ]
  },
  {
   "cell_type": "markdown",
   "metadata": {
    "colab_type": "text",
    "id": "zu4-DLtnVYzi"
   },
   "source": [
    "### Step 10. 각 열의 데이터타입은 무엇인가요?"
   ]
  },
  {
   "cell_type": "code",
   "execution_count": null,
   "metadata": {
    "colab": {
     "base_uri": "https://localhost:8080/",
     "height": 102
    },
    "colab_type": "code",
    "executionInfo": {
     "elapsed": 6392,
     "status": "ok",
     "timestamp": 1571342898462,
     "user": {
      "displayName": "kang sanghun",
      "photoUrl": "",
      "userId": "12450865979153508193"
     },
     "user_tz": -540
    },
    "id": "_H_WtmaQVYzj",
    "outputId": "ada1d2c5-25e3-46e0-86dc-00a1cd73a2ec"
   },
   "outputs": [],
   "source": [
    "users.dtypes"
   ]
  },
  {
   "cell_type": "markdown",
   "metadata": {
    "colab_type": "text",
    "id": "9Hflvi7uVYzl"
   },
   "source": [
    "### Step 11. occupation column만 조회해주세요"
   ]
  },
  {
   "cell_type": "code",
   "execution_count": null,
   "metadata": {
    "colab": {
     "base_uri": "https://localhost:8080/",
     "height": 1000
    },
    "colab_type": "code",
    "executionInfo": {
     "elapsed": 6387,
     "status": "ok",
     "timestamp": 1571342898463,
     "user": {
      "displayName": "kang sanghun",
      "photoUrl": "",
      "userId": "12450865979153508193"
     },
     "user_tz": -540
    },
    "id": "nRT4GvntVYzm",
    "outputId": "bbd93bce-71ca-40e1-9531-7b9786e22acc"
   },
   "outputs": [],
   "source": [
    "users.occupation\n",
    "\n",
    "#or\n",
    "\n",
    "users['occupation']"
   ]
  },
  {
   "cell_type": "markdown",
   "metadata": {
    "colab_type": "text",
    "id": "TXNFkZg1VYzo"
   },
   "source": [
    "### Step 12. 데이터셋에는 몇 종류의 직업이 존재하나요?\n",
    "\n",
    "21"
   ]
  },
  {
   "cell_type": "code",
   "execution_count": null,
   "metadata": {
    "colab": {
     "base_uri": "https://localhost:8080/",
     "height": 34
    },
    "colab_type": "code",
    "executionInfo": {
     "elapsed": 6381,
     "status": "ok",
     "timestamp": 1571342898464,
     "user": {
      "displayName": "kang sanghun",
      "photoUrl": "",
      "userId": "12450865979153508193"
     },
     "user_tz": -540
    },
    "id": "76CJm164VYzp",
    "outputId": "e3141060-6b1f-4312-85d7-a1681f3a4d69"
   },
   "outputs": [],
   "source": [
    "users.occupation.nunique()\n",
    "#or by using value_counts() which returns the count of unique elements\n",
    "#users.occupation.value_counts().count()"
   ]
  },
  {
   "cell_type": "markdown",
   "metadata": {
    "colab_type": "text",
    "id": "cLNR-0P2VYzr"
   },
   "source": [
    "### Step 13. 데이터셋에서 가장 많이 존재하는 직업은 무엇인가요?\n",
    "\n",
    "student"
   ]
  },
  {
   "cell_type": "code",
   "execution_count": null,
   "metadata": {
    "colab": {
     "base_uri": "https://localhost:8080/",
     "height": 34
    },
    "colab_type": "code",
    "executionInfo": {
     "elapsed": 6375,
     "status": "ok",
     "timestamp": 1571342898465,
     "user": {
      "displayName": "kang sanghun",
      "photoUrl": "",
      "userId": "12450865979153508193"
     },
     "user_tz": -540
    },
    "id": "-_Ej8nnlVYzr",
    "outputId": "5f4df924-b5e0-4d41-f88f-c7beb8f3d1e7"
   },
   "outputs": [],
   "source": [
    "#Because \"most\" is asked\n",
    "users.occupation.value_counts().head(1).index[0]\n",
    "\n",
    "#or\n",
    "#to have the top 5\n",
    "\n",
    "# users.occupation.value_counts().head()"
   ]
  },
  {
   "cell_type": "markdown",
   "metadata": {
    "colab_type": "text",
    "id": "zZWuwH3DVYzt"
   },
   "source": [
    "### Step 14. users.describe() 코드를 실행해서 숫자 열의 요약정보를 조회해주세요"
   ]
  },
  {
   "cell_type": "code",
   "execution_count": null,
   "metadata": {
    "colab": {
     "base_uri": "https://localhost:8080/",
     "height": 297
    },
    "colab_type": "code",
    "executionInfo": {
     "elapsed": 6368,
     "status": "ok",
     "timestamp": 1571342898465,
     "user": {
      "displayName": "kang sanghun",
      "photoUrl": "",
      "userId": "12450865979153508193"
     },
     "user_tz": -540
    },
    "id": "WbEWGDpLVYzu",
    "outputId": "0487ace3-d817-481f-a66d-b97df6ca7e2d"
   },
   "outputs": [],
   "source": [
    "users.describe() #Notice: by default, only the numeric columns are returned. "
   ]
  },
  {
   "cell_type": "markdown",
   "metadata": {
    "colab_type": "text",
    "id": "tqHy3sxaVYzw"
   },
   "source": [
    "### Step 15. users.describe(include = 'all') 코드를 실행해서 모든 열의 정보를 조회해주세요"
   ]
  },
  {
   "cell_type": "code",
   "execution_count": null,
   "metadata": {
    "colab": {
     "base_uri": "https://localhost:8080/",
     "height": 390
    },
    "colab_type": "code",
    "executionInfo": {
     "elapsed": 6362,
     "status": "ok",
     "timestamp": 1571342898466,
     "user": {
      "displayName": "kang sanghun",
      "photoUrl": "",
      "userId": "12450865979153508193"
     },
     "user_tz": -540
    },
    "id": "t4AdWF45VYzx",
    "outputId": "aefdf926-93a3-458a-834b-0f1e1f8b89ef",
    "scrolled": true
   },
   "outputs": [],
   "source": [
    "users.describe(include = \"all\") #Notice: By default, only the numeric columns are returned."
   ]
  },
  {
   "cell_type": "markdown",
   "metadata": {
    "colab_type": "text",
    "id": "kRGarntSVYzz"
   },
   "source": [
    "### Step 16. occupation 칼럼만 조회해서 describe() 함수를 실행해주세요\n",
    "\n",
    "count         943<br>\n",
    "unique         21<br>\n",
    "top       student<br>\n",
    "freq          196<br>\n",
    "Name: occupation, dtype: object<br>"
   ]
  },
  {
   "cell_type": "code",
   "execution_count": null,
   "metadata": {
    "colab": {
     "base_uri": "https://localhost:8080/",
     "height": 102
    },
    "colab_type": "code",
    "executionInfo": {
     "elapsed": 6356,
     "status": "ok",
     "timestamp": 1571342898466,
     "user": {
      "displayName": "kang sanghun",
      "photoUrl": "",
      "userId": "12450865979153508193"
     },
     "user_tz": -540
    },
    "id": "pbcPPZkJVYzz",
    "outputId": "4d315028-97ed-4d28-e112-3db3d2bd9f0b"
   },
   "outputs": [],
   "source": [
    "users.occupation.describe()"
   ]
  },
  {
   "cell_type": "markdown",
   "metadata": {
    "colab_type": "text",
    "id": "0cSIZZyiVYz1"
   },
   "source": [
    "### Step 17. user들의 평균 나이는 몇 살인가요?\n",
    "34"
   ]
  },
  {
   "cell_type": "code",
   "execution_count": null,
   "metadata": {
    "colab": {
     "base_uri": "https://localhost:8080/",
     "height": 34
    },
    "colab_type": "code",
    "executionInfo": {
     "elapsed": 6350,
     "status": "ok",
     "timestamp": 1571342898467,
     "user": {
      "displayName": "kang sanghun",
      "photoUrl": "",
      "userId": "12450865979153508193"
     },
     "user_tz": -540
    },
    "id": "TI3-t4H6VYz2",
    "outputId": "b0598948-bbb8-4c42-e74a-0453d2485458"
   },
   "outputs": [],
   "source": [
    "round(users.age.mean())"
   ]
  },
  {
   "cell_type": "markdown",
   "metadata": {
    "colab_type": "text",
    "id": "dGlse0TxVYz6"
   },
   "source": [
    "### Step 18. 데이터셋에서 가장 적게 등장하는 나이는 몇 살인가요?\n",
    "\n",
    "가장 적게 등장하는 나이는 1번씩 등장하는 나이이며  7, 66, 73, 10, 11살 입니다. 이러한 결과를 조회할수 있도록 데이터 조회하는 코드를 작성해주세요."
   ]
  },
  {
   "cell_type": "code",
   "execution_count": null,
   "metadata": {
    "colab": {
     "base_uri": "https://localhost:8080/",
     "height": 119
    },
    "colab_type": "code",
    "executionInfo": {
     "elapsed": 6344,
     "status": "ok",
     "timestamp": 1571342898467,
     "user": {
      "displayName": "kang sanghun",
      "photoUrl": "",
      "userId": "12450865979153508193"
     },
     "user_tz": -540
    },
    "id": "_IS6Bk7oVYz7",
    "outputId": "32919734-191e-4e56-ae03-61be60d3c25f"
   },
   "outputs": [],
   "source": [
    "users.age.value_counts().tail() #7, 10, 11, 66 and 73 years -> only 1 occurrence"
   ]
  }
 ],
 "metadata": {
  "anaconda-cloud": {},
  "colab": {
   "collapsed_sections": [],
   "name": "직업.ipynb",
   "provenance": []
  },
  "kernelspec": {
   "display_name": "Python 3",
   "language": "python",
   "name": "python3"
  },
  "language_info": {
   "codemirror_mode": {
    "name": "ipython",
    "version": 3
   },
   "file_extension": ".py",
   "mimetype": "text/x-python",
   "name": "python",
   "nbconvert_exporter": "python",
   "pygments_lexer": "ipython3",
   "version": "3.7.6"
  }
 },
 "nbformat": 4,
 "nbformat_minor": 4
}

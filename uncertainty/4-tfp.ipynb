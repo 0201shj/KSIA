{
 "cells": [
  {
   "cell_type": "markdown",
   "metadata": {},
   "source": [
    "### https://www.kaggle.com/jsjeong/tfp-layers-regression/edit"
   ]
  },
  {
   "cell_type": "code",
   "execution_count": 1,
   "metadata": {},
   "outputs": [],
   "source": [
    "import pandas as pd\n",
    "import numpy as np\n",
    "import matplotlib.pyplot as plt\n",
    "%matplotlib inline"
   ]
  },
  {
   "cell_type": "code",
   "execution_count": 2,
   "metadata": {},
   "outputs": [],
   "source": [
    "df=pd.read_excel('.\\\\data\\\\uncertainty1.xlsx', dtype=float,header=None)"
   ]
  },
  {
   "cell_type": "code",
   "execution_count": 3,
   "metadata": {},
   "outputs": [
    {
     "data": {
      "text/html": [
       "<div>\n",
       "<style scoped>\n",
       "    .dataframe tbody tr th:only-of-type {\n",
       "        vertical-align: middle;\n",
       "    }\n",
       "\n",
       "    .dataframe tbody tr th {\n",
       "        vertical-align: top;\n",
       "    }\n",
       "\n",
       "    .dataframe thead th {\n",
       "        text-align: right;\n",
       "    }\n",
       "</style>\n",
       "<table border=\"1\" class=\"dataframe\">\n",
       "  <thead>\n",
       "    <tr style=\"text-align: right;\">\n",
       "      <th></th>\n",
       "      <th>0</th>\n",
       "      <th>1</th>\n",
       "    </tr>\n",
       "  </thead>\n",
       "  <tbody>\n",
       "    <tr>\n",
       "      <th>count</th>\n",
       "      <td>245.000000</td>\n",
       "      <td>245.000000</td>\n",
       "    </tr>\n",
       "    <tr>\n",
       "      <th>mean</th>\n",
       "      <td>24.254286</td>\n",
       "      <td>19776.597551</td>\n",
       "    </tr>\n",
       "    <tr>\n",
       "      <th>std</th>\n",
       "      <td>6.900626</td>\n",
       "      <td>3973.829227</td>\n",
       "    </tr>\n",
       "    <tr>\n",
       "      <th>min</th>\n",
       "      <td>7.900000</td>\n",
       "      <td>14019.120000</td>\n",
       "    </tr>\n",
       "    <tr>\n",
       "      <th>25%</th>\n",
       "      <td>19.700000</td>\n",
       "      <td>16023.360000</td>\n",
       "    </tr>\n",
       "    <tr>\n",
       "      <th>50%</th>\n",
       "      <td>26.100000</td>\n",
       "      <td>19301.280000</td>\n",
       "    </tr>\n",
       "    <tr>\n",
       "      <th>75%</th>\n",
       "      <td>29.100000</td>\n",
       "      <td>22804.320000</td>\n",
       "    </tr>\n",
       "    <tr>\n",
       "      <th>max</th>\n",
       "      <td>36.800000</td>\n",
       "      <td>29781.120000</td>\n",
       "    </tr>\n",
       "  </tbody>\n",
       "</table>\n",
       "</div>"
      ],
      "text/plain": [
       "                0             1\n",
       "count  245.000000    245.000000\n",
       "mean    24.254286  19776.597551\n",
       "std      6.900626   3973.829227\n",
       "min      7.900000  14019.120000\n",
       "25%     19.700000  16023.360000\n",
       "50%     26.100000  19301.280000\n",
       "75%     29.100000  22804.320000\n",
       "max     36.800000  29781.120000"
      ]
     },
     "execution_count": 3,
     "metadata": {},
     "output_type": "execute_result"
    }
   ],
   "source": [
    "df.describe()"
   ]
  },
  {
   "cell_type": "code",
   "execution_count": 4,
   "metadata": {},
   "outputs": [],
   "source": [
    "xs=df[0]"
   ]
  },
  {
   "cell_type": "code",
   "execution_count": 5,
   "metadata": {},
   "outputs": [
    {
     "data": {
      "text/plain": [
       "(245,)"
      ]
     },
     "execution_count": 5,
     "metadata": {},
     "output_type": "execute_result"
    }
   ],
   "source": [
    "xs.shape"
   ]
  },
  {
   "cell_type": "code",
   "execution_count": 6,
   "metadata": {},
   "outputs": [],
   "source": [
    "xs=np.array(xs)"
   ]
  },
  {
   "cell_type": "code",
   "execution_count": 7,
   "metadata": {},
   "outputs": [],
   "source": [
    "#x1"
   ]
  },
  {
   "cell_type": "code",
   "execution_count": 8,
   "metadata": {},
   "outputs": [],
   "source": [
    "xs = xs[..., np.newaxis]"
   ]
  },
  {
   "cell_type": "code",
   "execution_count": 9,
   "metadata": {},
   "outputs": [
    {
     "data": {
      "text/plain": [
       "(245, 1)"
      ]
     },
     "execution_count": 9,
     "metadata": {},
     "output_type": "execute_result"
    }
   ],
   "source": [
    "xs.shape"
   ]
  },
  {
   "cell_type": "code",
   "execution_count": 10,
   "metadata": {},
   "outputs": [],
   "source": [
    "ys=df[1]"
   ]
  },
  {
   "cell_type": "code",
   "execution_count": 11,
   "metadata": {},
   "outputs": [],
   "source": [
    "ys=np.array(ys)"
   ]
  },
  {
   "cell_type": "code",
   "execution_count": 12,
   "metadata": {},
   "outputs": [
    {
     "data": {
      "text/plain": [
       "(245,)"
      ]
     },
     "execution_count": 12,
     "metadata": {},
     "output_type": "execute_result"
    }
   ],
   "source": [
    "ys.shape"
   ]
  },
  {
   "cell_type": "code",
   "execution_count": 13,
   "metadata": {},
   "outputs": [],
   "source": [
    "w0 = 0.125\n",
    "b0 = 10000.\n",
    "n_samples = 245\n",
    "\n",
    "y_range = [10000, 30000]\n",
    "x_range = [0, 40]\n",
    "x_domain = np.linspace(*x_range, n_samples)\n",
    "\n",
    "def load_dataset(n=n_samples, n_tst=n_samples):\n",
    "  np.random.seed(43)\n",
    "  def s(x):\n",
    "    g = (x - x_range[0]) / (x_range[1] - x_range[0])\n",
    "    return 3 * (0.25 + g**2.)\n",
    "  x = (x_range[1] - x_range[0]) * np.random.rand(n) + x_range[0]\n",
    "  eps = np.random.randn(n) * s(x)\n",
    "  y = (w0 * x * (1. + np.sin(x)) + b0) + eps\n",
    "  x = x[..., np.newaxis]\n",
    "  x_tst = np.linspace(*x_range, num=n_tst).astype(np.float32)\n",
    "  x_tst = x_tst[..., np.newaxis]\n",
    "  return y, x, x_tst\n",
    "\n",
    "#ys, xs, xs_tst = load_dataset()\n",
    "xs_tst=np.linspace(*x_range, n_samples).astype(np.float32)\n",
    "xs_tst = xs_tst[..., np.newaxis]"
   ]
  },
  {
   "cell_type": "code",
   "execution_count": 14,
   "metadata": {},
   "outputs": [
    {
     "data": {
      "text/plain": [
       "(245, 1)"
      ]
     },
     "execution_count": 14,
     "metadata": {},
     "output_type": "execute_result"
    }
   ],
   "source": [
    "xs_tst.shape"
   ]
  },
  {
   "cell_type": "code",
   "execution_count": 15,
   "metadata": {},
   "outputs": [
    {
     "data": {
      "text/plain": [
       "array([15824.4 , 15608.88, 15234.96, 15740.88, 15568.32, 16257.36,\n",
       "       16007.76, 15661.92, 14954.64, 14979.12, 15352.8 , 15901.68,\n",
       "       15815.28, 16030.32, 15760.32, 15653.76, 16023.36, 16007.04,\n",
       "       15812.88, 15958.32, 16052.64, 16625.76, 16221.36, 16165.68,\n",
       "       16062.72, 15297.6 , 15447.84, 15232.8 , 14019.12, 15402.  ,\n",
       "       15627.12, 16166.88, 15691.44, 15890.64, 15254.64, 15385.68,\n",
       "       15192.96, 14950.8 , 15514.08, 15445.68, 15635.76, 15326.88,\n",
       "       15883.92, 15365.52, 14970.96, 15536.88, 15843.6 , 16286.16,\n",
       "       15550.56, 15831.36, 15899.04, 15266.4 , 16608.72, 17217.84,\n",
       "       17900.4 , 16414.08, 15222.72, 15834.24, 14963.52, 15455.04,\n",
       "       16212.72, 16609.68, 17283.84, 17967.12, 18045.12, 17839.44,\n",
       "       16340.88, 16987.92, 16546.08, 16451.76, 17362.56, 18100.32,\n",
       "       18052.56, 17782.08, 19538.4 , 19569.36, 19684.08, 20489.04,\n",
       "       19118.16, 18276.48, 16974.48, 17312.88, 17811.84, 20034.72,\n",
       "       21822.48, 20516.64, 20726.4 , 18115.2 , 17643.12, 19251.84,\n",
       "       18467.04, 17705.28, 18256.8 , 19178.4 , 20439.6 , 20437.44,\n",
       "       20915.76, 19248.96, 19513.44, 19586.88, 18634.56, 18429.84,\n",
       "       19301.28, 20802.  , 21142.08, 21125.52, 20837.28, 20505.12,\n",
       "       20401.92, 20224.32, 20448.96, 20971.44, 21255.36, 21582.48,\n",
       "       21487.92, 23236.56, 23542.08, 23145.12, 24035.52, 21778.08,\n",
       "       22205.28, 22218.24, 22804.32, 23147.04, 22153.2 , 23544.24,\n",
       "       25127.28, 26100.24, 24128.16, 24418.56, 24407.76, 22619.52,\n",
       "       21768.48, 23191.92, 23605.68, 23818.8 , 23632.08, 23764.8 ,\n",
       "       24551.04, 25040.4 , 26551.68, 25526.64, 23868.24, 22096.8 ,\n",
       "       27108.96, 25899.6 , 25604.16, 22711.68, 25632.  , 24337.92,\n",
       "       25872.48, 26292.96, 25243.92, 26104.08, 27363.6 , 27083.04,\n",
       "       27158.4 , 29214.  , 29781.12, 28194.  , 28757.76, 28604.16,\n",
       "       28922.4 , 27978.48, 26249.28, 27820.56, 28578.96, 25590.96,\n",
       "       25980.24, 25054.08, 23736.  , 25517.76, 25803.6 , 25182.48,\n",
       "       25233.36, 24821.28, 23061.36, 23957.28, 24259.92, 24415.2 ,\n",
       "       24183.36, 23252.4 , 22676.16, 22487.52, 22593.6 , 23172.24,\n",
       "       22967.52, 22150.32, 21720.96, 22525.44, 22994.4 , 22099.2 ,\n",
       "       22686.  , 22542.96, 22260.  , 18212.88, 19999.44, 19942.32,\n",
       "       21825.12, 22218.24, 21674.4 , 20157.84, 19752.24, 18159.12,\n",
       "       16932.24, 16247.04, 18090.96, 18380.64, 19790.4 , 20256.48,\n",
       "       19864.08, 19762.56, 20226.96, 20622.96, 20084.16, 19945.92,\n",
       "       20295.84, 21273.84, 18550.8 , 16728.  , 16033.2 , 15806.88,\n",
       "       14863.2 , 14287.92, 16281.84, 16389.6 , 16068.48, 15627.36,\n",
       "       15670.32, 15416.88, 15311.04, 15908.64, 16225.92, 16303.44,\n",
       "       17122.08, 17361.6 , 16756.8 , 17158.08, 14360.64, 15358.32,\n",
       "       14953.2 , 15162.24, 15343.92, 15344.4 , 15507.12])"
      ]
     },
     "execution_count": 15,
     "metadata": {},
     "output_type": "execute_result"
    }
   ],
   "source": [
    "ys=np.array(ys)\n",
    "ys"
   ]
  },
  {
   "cell_type": "code",
   "execution_count": 16,
   "metadata": {},
   "outputs": [],
   "source": [
    "import tensorflow as tf\n",
    "import tensorflow_probability as tfp\n",
    "\n",
    "# functional programming\n",
    "from functools import partial\n",
    "\n",
    "# plotting\n",
    "import matplotlib.pyplot as plt"
   ]
  },
  {
   "cell_type": "code",
   "execution_count": 17,
   "metadata": {},
   "outputs": [
    {
     "name": "stdout",
     "output_type": "stream",
     "text": [
      "            tensorflow version: 2.3.1\n",
      "tensorflow probability version: 0.11.0\n"
     ]
    }
   ],
   "source": [
    "# plot utilities\n",
    "%matplotlib inline\n",
    "plt.style.use('ggplot')\n",
    "def plt_left_title(title): plt.title(title, loc=\"left\", fontsize=18)\n",
    "def plt_right_title(title): plt.title(title, loc='right', fontsize=13, color='grey')\n",
    "\n",
    "# use eager execution for better ease-of-use and readability\n",
    "#tf.enable_eager_execution()\n",
    "\n",
    "# aliases\n",
    "tfk = tf.keras\n",
    "tfd = tfp.distributions\n",
    "\n",
    "print(f\"            tensorflow version: {tf.__version__}\")\n",
    "print(f\"tensorflow probability version: {tfp.__version__}\")"
   ]
  },
  {
   "cell_type": "code",
   "execution_count": 18,
   "metadata": {},
   "outputs": [
    {
     "data": {
      "image/png": "[encoded data removed]",
      "text/plain": [
       "<Figure size 864x504 with 1 Axes>"
      ]
     },
     "metadata": {},
     "output_type": "display_data"
    }
   ],
   "source": [
    "def plot_training_data(): \n",
    "    plt.figure(figsize=(12, 7))\n",
    "    plt.scatter(xs, ys, c=\"#619CFF\", label=\"training data\")\n",
    "    plt.xlabel(\"x\")\n",
    "    plt.ylabel(\"y\")\n",
    "\n",
    "plot_training_data()\n",
    "plt_left_title(\"Training Data\");"
   ]
  },
  {
   "cell_type": "code",
   "execution_count": 19,
   "metadata": {},
   "outputs": [],
   "source": [
    "def neg_log_lik(y, rv_y):\n",
    "    \"\"\"Evaluate negative log-likelihood of a random variable `rv_y` for data `y`\"\"\"\n",
    "    return -rv_y.log_prob(y)"
   ]
  },
  {
   "cell_type": "code",
   "execution_count": 20,
   "metadata": {},
   "outputs": [],
   "source": [
    "### CASE 1"
   ]
  },
  {
   "cell_type": "code",
   "execution_count": 21,
   "metadata": {},
   "outputs": [
    {
     "name": "stdout",
     "output_type": "stream",
     "text": [
      "predicted w : [[40.4473]]\n",
      "predicted b : [39.664898]\n"
     ]
    }
   ],
   "source": [
    "# model outputs normal distribution with constant variance\n",
    "model_case_1 = tfk.Sequential([\n",
    "    tfk.layers.Dense(1),\n",
    "    tfp.layers.DistributionLambda(\n",
    "        lambda t: tfd.Normal(loc=t, scale=1.0)\n",
    "    )\n",
    "])\n",
    "\n",
    "# train the model\n",
    "model_case_1.compile(optimizer=tf.optimizers.Adam(learning_rate=0.01), \n",
    "                    loss=neg_log_lik)\n",
    "model_case_1.fit(xs, ys, \n",
    "                 epochs=500,\n",
    "                 verbose=False)\n",
    "\n",
    "print(f\"predicted w : {model_case_1.layers[-2].kernel.numpy()}\")\n",
    "print(f\"predicted b : {model_case_1.layers[-2].bias.numpy()}\")"
   ]
  },
  {
   "cell_type": "code",
   "execution_count": 22,
   "metadata": {},
   "outputs": [],
   "source": [
    "# predict xs\n",
    "yhat = model_case_1(xs_tst)"
   ]
  },
  {
   "cell_type": "code",
   "execution_count": 23,
   "metadata": {},
   "outputs": [
    {
     "name": "stdout",
     "output_type": "stream",
     "text": [
      "tf.Tensor(\n",
      "[[  39.664898]\n",
      " [  46.2956  ]\n",
      " [  52.926308]\n",
      " [  59.557014]\n",
      " [  66.18771 ]\n",
      " [  72.81842 ]\n",
      " [  79.44913 ]\n",
      " [  86.079834]\n",
      " [  92.71054 ]\n",
      " [  99.34125 ]\n",
      " [ 105.97194 ]\n",
      " [ 112.602646]\n",
      " [ 119.23335 ]\n",
      " [ 125.86406 ]\n",
      " [ 132.49477 ]\n",
      " [ 139.12547 ]\n",
      " [ 145.75618 ]\n",
      " [ 152.38689 ]\n",
      " [ 159.0176  ]\n",
      " [ 165.6483  ]\n",
      " [ 172.27899 ]\n",
      " [ 178.9097  ]\n",
      " [ 185.5404  ]\n",
      " [ 192.17111 ]\n",
      " [ 198.80182 ]\n",
      " [ 205.43253 ]\n",
      " [ 212.06323 ]\n",
      " [ 218.69394 ]\n",
      " [ 225.32463 ]\n",
      " [ 231.95535 ]\n",
      " [ 238.58604 ]\n",
      " [ 245.21677 ]\n",
      " [ 251.84746 ]\n",
      " [ 258.47818 ]\n",
      " [ 265.10886 ]\n",
      " [ 271.73956 ]\n",
      " [ 278.37027 ]\n",
      " [ 285.00098 ]\n",
      " [ 291.63168 ]\n",
      " [ 298.2624  ]\n",
      " [ 304.89307 ]\n",
      " [ 311.5238  ]\n",
      " [ 318.15448 ]\n",
      " [ 324.78522 ]\n",
      " [ 331.4159  ]\n",
      " [ 338.0466  ]\n",
      " [ 344.6773  ]\n",
      " [ 351.308   ]\n",
      " [ 357.93872 ]\n",
      " [ 364.56946 ]\n",
      " [ 371.20013 ]\n",
      " [ 377.83084 ]\n",
      " [ 384.46155 ]\n",
      " [ 391.09222 ]\n",
      " [ 397.72296 ]\n",
      " [ 404.35367 ]\n",
      " [ 410.98434 ]\n",
      " [ 417.61505 ]\n",
      " [ 424.2458  ]\n",
      " [ 430.8765  ]\n",
      " [ 437.50717 ]\n",
      " [ 444.13788 ]\n",
      " [ 450.76862 ]\n",
      " [ 457.3993  ]\n",
      " [ 464.03    ]\n",
      " [ 470.6607  ]\n",
      " [ 477.29144 ]\n",
      " [ 483.92212 ]\n",
      " [ 490.55283 ]\n",
      " [ 497.18353 ]\n",
      " [ 503.8142  ]\n",
      " [ 510.44495 ]\n",
      " [ 517.0757  ]\n",
      " [ 523.70636 ]\n",
      " [ 530.33704 ]\n",
      " [ 536.9678  ]\n",
      " [ 543.5985  ]\n",
      " [ 550.2292  ]\n",
      " [ 556.8599  ]\n",
      " [ 563.4906  ]\n",
      " [ 570.1213  ]\n",
      " [ 576.752   ]\n",
      " [ 583.38275 ]\n",
      " [ 590.0134  ]\n",
      " [ 596.6441  ]\n",
      " [ 603.27484 ]\n",
      " [ 609.9056  ]\n",
      " [ 616.53625 ]\n",
      " [ 623.16693 ]\n",
      " [ 629.79767 ]\n",
      " [ 636.42834 ]\n",
      " [ 643.0591  ]\n",
      " [ 649.68976 ]\n",
      " [ 656.3205  ]\n",
      " [ 662.9512  ]\n",
      " [ 669.5819  ]\n",
      " [ 676.2126  ]\n",
      " [ 682.84326 ]\n",
      " [ 689.47406 ]\n",
      " [ 696.1047  ]\n",
      " [ 702.7354  ]\n",
      " [ 709.3661  ]\n",
      " [ 715.9968  ]\n",
      " [ 722.62756 ]\n",
      " [ 729.25824 ]\n",
      " [ 735.889   ]\n",
      " [ 742.5196  ]\n",
      " [ 749.1503  ]\n",
      " [ 755.78107 ]\n",
      " [ 762.41174 ]\n",
      " [ 769.0425  ]\n",
      " [ 775.6732  ]\n",
      " [ 782.30383 ]\n",
      " [ 788.9346  ]\n",
      " [ 795.56525 ]\n",
      " [ 802.196   ]\n",
      " [ 808.8267  ]\n",
      " [ 815.4574  ]\n",
      " [ 822.08813 ]\n",
      " [ 828.71875 ]\n",
      " [ 835.3495  ]\n",
      " [ 841.9802  ]\n",
      " [ 848.6109  ]\n",
      " [ 855.24164 ]\n",
      " [ 861.8724  ]\n",
      " [ 868.50305 ]\n",
      " [ 875.1337  ]\n",
      " [ 881.7644  ]\n",
      " [ 888.39514 ]\n",
      " [ 895.0259  ]\n",
      " [ 901.65656 ]\n",
      " [ 908.2873  ]\n",
      " [ 914.918   ]\n",
      " [ 921.54865 ]\n",
      " [ 928.1794  ]\n",
      " [ 934.81006 ]\n",
      " [ 941.4408  ]\n",
      " [ 948.07153 ]\n",
      " [ 954.7022  ]\n",
      " [ 961.3329  ]\n",
      " [ 967.96356 ]\n",
      " [ 974.5943  ]\n",
      " [ 981.22504 ]\n",
      " [ 987.8557  ]\n",
      " [ 994.48645 ]\n",
      " [1001.1172  ]\n",
      " [1007.7478  ]\n",
      " [1014.37854 ]\n",
      " [1021.0092  ]\n",
      " [1027.6399  ]\n",
      " [1034.2706  ]\n",
      " [1040.9014  ]\n",
      " [1047.5321  ]\n",
      " [1054.1627  ]\n",
      " [1060.7935  ]\n",
      " [1067.4242  ]\n",
      " [1074.0549  ]\n",
      " [1080.6855  ]\n",
      " [1087.3163  ]\n",
      " [1093.947   ]\n",
      " [1100.5776  ]\n",
      " [1107.2084  ]\n",
      " [1113.8391  ]\n",
      " [1120.4698  ]\n",
      " [1127.1006  ]\n",
      " [1133.7312  ]\n",
      " [1140.3619  ]\n",
      " [1146.9926  ]\n",
      " [1153.6233  ]\n",
      " [1160.254   ]\n",
      " [1166.8848  ]\n",
      " [1173.5155  ]\n",
      " [1180.1462  ]\n",
      " [1186.7769  ]\n",
      " [1193.4076  ]\n",
      " [1200.0382  ]\n",
      " [1206.669   ]\n",
      " [1213.2997  ]\n",
      " [1219.9304  ]\n",
      " [1226.5612  ]\n",
      " [1233.1918  ]\n",
      " [1239.8225  ]\n",
      " [1246.4532  ]\n",
      " [1253.0839  ]\n",
      " [1259.7146  ]\n",
      " [1266.3453  ]\n",
      " [1272.9761  ]\n",
      " [1279.6067  ]\n",
      " [1286.2374  ]\n",
      " [1292.8682  ]\n",
      " [1299.4989  ]\n",
      " [1306.1295  ]\n",
      " [1312.7603  ]\n",
      " [1319.391   ]\n",
      " [1326.0216  ]\n",
      " [1332.6523  ]\n",
      " [1339.2832  ]\n",
      " [1345.9138  ]\n",
      " [1352.5444  ]\n",
      " [1359.1752  ]\n",
      " [1365.8059  ]\n",
      " [1372.4366  ]\n",
      " [1379.0673  ]\n",
      " [1385.6981  ]\n",
      " [1392.3287  ]\n",
      " [1398.9594  ]\n",
      " [1405.5902  ]\n",
      " [1412.2208  ]\n",
      " [1418.8516  ]\n",
      " [1425.4822  ]\n",
      " [1432.113   ]\n",
      " [1438.7437  ]\n",
      " [1445.3743  ]\n",
      " [1452.0051  ]\n",
      " [1458.6357  ]\n",
      " [1465.2665  ]\n",
      " [1471.8972  ]\n",
      " [1478.5278  ]\n",
      " [1485.1586  ]\n",
      " [1491.7892  ]\n",
      " [1498.42    ]\n",
      " [1505.0507  ]\n",
      " [1511.6815  ]\n",
      " [1518.3121  ]\n",
      " [1524.9427  ]\n",
      " [1531.5735  ]\n",
      " [1538.2042  ]\n",
      " [1544.835   ]\n",
      " [1551.4656  ]\n",
      " [1558.0964  ]\n",
      " [1564.727   ]\n",
      " [1571.3577  ]\n",
      " [1577.9885  ]\n",
      " [1584.6191  ]\n",
      " [1591.2499  ]\n",
      " [1597.8805  ]\n",
      " [1604.5114  ]\n",
      " [1611.142   ]\n",
      " [1617.7726  ]\n",
      " [1624.4034  ]\n",
      " [1631.034   ]\n",
      " [1637.6648  ]\n",
      " [1644.2955  ]\n",
      " [1650.9263  ]\n",
      " [1657.5569  ]], shape=(245, 1), dtype=float32)\n"
     ]
    }
   ],
   "source": [
    "print(yhat.mean())"
   ]
  },
  {
   "cell_type": "code",
   "execution_count": 24,
   "metadata": {},
   "outputs": [
    {
     "data": {
      "image/png": "[encoded data removed]",
      "text/plain": [
       "<Figure size 864x504 with 1 Axes>"
      ]
     },
     "metadata": {},
     "output_type": "display_data"
    }
   ],
   "source": [
    "plot_training_data()\n",
    "plt_left_title(\"No Uncertainty\")\n",
    "plt_right_title(\"$Y \\sim N(w_0 x + b_0, 1)$\")\n",
    "# plot predicted means for each x\n",
    "plt.plot(x_domain, yhat.mean(), \"#F8766D\", linewidth=5, label=\"mean\")\n",
    "plt.legend();"
   ]
  },
  {
   "cell_type": "markdown",
   "metadata": {},
   "source": [
    "### CASE 2"
   ]
  },
  {
   "cell_type": "code",
   "execution_count": 25,
   "metadata": {},
   "outputs": [],
   "source": [
    "def normal_scale_uncertainty(t, softplus_scale=0.05):\n",
    "    \"\"\"Create distribution with variable mean and variance\"\"\"\n",
    "    ts = t[..., :1]\n",
    "    return tfd.Normal(loc = ts,\n",
    "                      scale = 1e-3 + tf.math.softplus(softplus_scale * ts))"
   ]
  },
  {
   "cell_type": "code",
   "execution_count": 26,
   "metadata": {},
   "outputs": [
    {
     "name": "stdout",
     "output_type": "stream",
     "text": [
      "Model 2 weights:\n",
      "[11.66173     0.01840878]\n",
      "[14.719889  0.      ]\n"
     ]
    }
   ],
   "source": [
    "# model outputs normal distribution with mean and variance that \n",
    "# depend on the input\n",
    "model_case_2 = tfk.Sequential([\n",
    "    tfk.layers.Dense(2),\n",
    "    tfp.layers.DistributionLambda(normal_scale_uncertainty)\n",
    "])\n",
    "\n",
    "model_case_2.compile(optimizer=tf.optimizers.Adam(learning_rate=0.05),\n",
    "                    loss=neg_log_lik)\n",
    "model_case_2.fit(xs, ys,\n",
    "                epochs=500,\n",
    "                verbose=False)\n",
    "\n",
    "print(\"Model 2 weights:\")\n",
    "[print(np.squeeze(w.numpy())) for w in model_case_2.weights];"
   ]
  },
  {
   "cell_type": "code",
   "execution_count": 27,
   "metadata": {},
   "outputs": [
    {
     "data": {
      "image/png": "[encoded data removed]",
      "text/plain": [
       "<Figure size 864x504 with 1 Axes>"
      ]
     },
     "metadata": {},
     "output_type": "display_data"
    }
   ],
   "source": [
    "# predict normal distributions for each x\n",
    "yhat = model_case_2(xs_tst)\n",
    "\n",
    "# get mean and variance\n",
    "yhat_mean = yhat.mean()\n",
    "yhat_std = yhat.stddev()\n",
    "\n",
    "plot_training_data()\n",
    "plt_left_title(\"Aleatoric Uncertainty\")\n",
    "plt_right_title(\"$Y \\sim N(\\mu (x), \\sigma (x))$\")\n",
    "# plot mean\n",
    "plt.plot(x_domain, yhat_mean, \"#F8766D\", linewidth=5, label=\"mean\")\n",
    "# plot 2 stddev from mean\n",
    "plt.fill_between(x_domain,\n",
    "                 (yhat_mean + 2 * yhat_std)[:, 0], \n",
    "                 (yhat_mean - 2 * yhat_std)[:, 0],\n",
    "                 facecolor=\"#00BA38\", alpha=0.3,\n",
    "                 label=\"$\\pm$ 2 stddev\")\n",
    "plt.legend();"
   ]
  },
  {
   "cell_type": "markdown",
   "metadata": {},
   "source": [
    "### CASE 2"
   ]
  },
  {
   "cell_type": "code",
   "execution_count": 28,
   "metadata": {},
   "outputs": [],
   "source": [
    "def posterior_mean_field(kernel_size, bias_size=0, dtype=None):\n",
    "    n = kernel_size + bias_size\n",
    "    c = np.log(np.expm1(1.0))\n",
    "    \n",
    "    return tfk.Sequential([\n",
    "        tfp.layers.VariableLayer(2 * n, dtype=dtype),\n",
    "        tfp.layers.DistributionLambda(lambda t: tfd.Independent(\n",
    "            tfd.Normal(loc=t[..., :n], \n",
    "                       scale=1e-5 + tf.nn.softplus(c + t[..., n:])),\n",
    "            reinterpreted_batch_ndims=1))\n",
    "    ])\n",
    "\n",
    "def prior_trainable(kernel_size, bias_size=0, dtype=None):\n",
    "    n = kernel_size + bias_size\n",
    "    \n",
    "    return tfk.Sequential([\n",
    "        tfp.layers.VariableLayer(n, dtype=dtype),\n",
    "        tfp.layers.DistributionLambda(lambda t: tfd.Independent(\n",
    "            tfd.Normal(loc=t, scale=1.0),\n",
    "            reinterpreted_batch_ndims=1))\n",
    "    ])"
   ]
  },
  {
   "cell_type": "code",
   "execution_count": 29,
   "metadata": {},
   "outputs": [
    {
     "name": "stdout",
     "output_type": "stream",
     "text": [
      "Model 3 weights:\n",
      "[78.90362    79.11554    -2.476627   -0.92163014]\n",
      "[77.095894 76.80683 ]\n"
     ]
    }
   ],
   "source": [
    "model_case_3 = tfk.Sequential([\n",
    "    tfp.layers.DenseVariational(1, \n",
    "                            posterior_mean_field, \n",
    "                            prior_trainable),\n",
    "    tfp.layers.DistributionLambda(\n",
    "        lambda t: tfd.Normal(loc=t, scale=1.0)\n",
    "    )\n",
    "])\n",
    "\n",
    "model_case_3.compile(optimizer=tf.optimizers.Adam(learning_rate=0.01),\n",
    "                     loss=neg_log_lik)\n",
    "model_case_3.fit(xs, ys,\n",
    "                 epochs=1000,\n",
    "                 verbose=False)\n",
    "\n",
    "print(\"Model 3 weights:\")\n",
    "[print(np.squeeze(w.numpy())) for w in model_case_3.weights];"
   ]
  },
  {
   "cell_type": "code",
   "execution_count": 30,
   "metadata": {},
   "outputs": [
    {
     "data": {
      "image/png": "[encoded data removed]",
      "text/plain": [
       "<Figure size 864x504 with 1 Axes>"
      ]
     },
     "metadata": {},
     "output_type": "display_data"
    }
   ],
   "source": [
    "# sample posterior\n",
    "n_posterior_samples = 50\n",
    "yhats = [model_case_3(xs_tst) for _ in range(n_posterior_samples)]\n",
    "\n",
    "plot_training_data()\n",
    "plt_left_title(\"Epistemic Uncertainty\")\n",
    "plt_right_title(\"$Y \\sim N(W x + B, 1)$\")\n",
    "\n",
    "# plot means for each posterior sample\n",
    "for i, yhat in enumerate(yhats):\n",
    "    plt.plot(xs_tst, yhat.mean(), \n",
    "             '#F8766D', linewidth=0.5, alpha=0.5, \n",
    "             label=f\"{n_posterior_samples} sample means\" if i==0 else None)\n",
    "\n",
    "# plot overall mean\n",
    "yhats_mean = sum(yh.mean() for yh in yhats) / len(yhats)\n",
    "plt.plot(xs_tst, yhats_mean, 'darkred', linewidth=3, label=\"aggregate mean\")\n",
    "plt.legend();"
   ]
  },
  {
   "cell_type": "markdown",
   "metadata": {},
   "source": [
    "Case 4: Aleatoric & Epistemic Uncertainty"
   ]
  },
  {
   "cell_type": "code",
   "execution_count": 31,
   "metadata": {},
   "outputs": [
    {
     "name": "stdout",
     "output_type": "stream",
     "text": [
      "Model 4 weights:\n",
      "[ 2.2137070e+01  4.1239075e-02  2.6539438e+01 -2.1392927e-02\n",
      " -1.5534176e+00  1.0220003e-03 -6.9857728e-01  7.7940971e-02]\n",
      "[ 2.2074886e+01 -4.1239049e-02  2.6283283e+01  2.1392830e-02]\n"
     ]
    }
   ],
   "source": [
    "model_case_4 = tfk.Sequential([\n",
    "    tfp.layers.DenseVariational(2, \n",
    "                                posterior_mean_field,\n",
    "                                prior_trainable),\n",
    "    tfp.layers.DistributionLambda(partial(normal_scale_uncertainty, softplus_scale=0.01))\n",
    "])\n",
    "\n",
    "model_case_4.compile(optimizer=tf.optimizers.Adam(learning_rate=0.01),\n",
    "                     loss=neg_log_lik)\n",
    "model_case_4.fit(xs, ys,\n",
    "                 epochs=1000,\n",
    "                 verbose=False)\n",
    "\n",
    "print(\"Model 4 weights:\")\n",
    "[print(np.squeeze(w.numpy())) for w in model_case_4.weights];"
   ]
  },
  {
   "cell_type": "code",
   "execution_count": 32,
   "metadata": {},
   "outputs": [
    {
     "data": {
      "image/png": "[encoded data removed]",
      "text/plain": [
       "<Figure size 864x504 with 1 Axes>"
      ]
     },
     "metadata": {},
     "output_type": "display_data"
    }
   ],
   "source": [
    "yhats = [model_case_4(xs_tst) for _ in range(7)]\n",
    "\n",
    "plot_training_data()\n",
    "plt_left_title(\"Aleatoric & Epistemic Uncertainty\")\n",
    "plt_right_title(\"$Y \\sim N ( W x + B, \\sigma(X) )$\")\n",
    "plt.ylim(ys.min() - 5, ys.max() + 5)\n",
    "\n",
    "# for each posterior sample, plot mean plus/minus 2 std\n",
    "for i, yhat in enumerate(yhats):\n",
    "    m = yhat.mean()[:, 0]\n",
    "    s = yhat.stddev()[:, 0]\n",
    "\n",
    "    plt.plot(xs_tst, m, \"#F8766D\", linewidth=0.7, \n",
    "             label=f\"{len(yhats)} sample means\" if i==0 else None)\n",
    "    plt.fill_between(xs_tst[:, 0],\n",
    "                     m - 2 * s, m + 2 * s,\n",
    "                     facecolor=\"#00BA38\", alpha=0.1,\n",
    "                     label=f\"2 stddev\" if i==0 else None)\n",
    "    \n",
    "# plot overall mean\n",
    "yhats_mean = sum(yh.mean() for yh in yhats) / len(yhats)\n",
    "plt.plot(xs_tst, yhats_mean, 'darkred', linewidth=3, label=\"aggregate mean\")\n",
    "\n",
    "plt.legend();"
   ]
  },
  {
   "cell_type": "markdown",
   "metadata": {},
   "source": [
    "### Case 5: Functional Uncertainty"
   ]
  },
  {
   "cell_type": "code",
   "execution_count": 33,
   "metadata": {},
   "outputs": [],
   "source": [
    "class RBFKernelFn(tfk.layers.Layer):\n",
    "    def __init__(self, **kwargs):\n",
    "        super(RBFKernelFn, self).__init__(**kwargs)\n",
    "        dtype = kwargs.get('dtype', None)\n",
    "        \n",
    "        self._amplitude = self.add_variable(\n",
    "            initializer=tf.constant_initializer(0),\n",
    "            dtype=dtype,\n",
    "            name=\"amplitude\"\n",
    "        )\n",
    "        \n",
    "        self._length_scale = self.add_variable(\n",
    "            initializer=tf.constant_initializer(0),\n",
    "            dtype=dtype,\n",
    "            name=\"length_scale\"\n",
    "        )\n",
    "    \n",
    "    def call(self, x):\n",
    "        return x\n",
    "    \n",
    "    @property\n",
    "    def kernel(self):\n",
    "        return tfp.positive_semidefinite_kernels.ExponentiatedQuadratic(\n",
    "            amplitude=tf.nn.softplus(0.1 * self._amplitude),\n",
    "            length_scale=tf.nn.softplus(5.0 * self._length_scale))"
   ]
  },
  {
   "cell_type": "code",
   "execution_count": 34,
   "metadata": {},
   "outputs": [
    {
     "name": "stdout",
     "output_type": "stream",
     "text": [
      "WARNING:tensorflow:From <ipython-input-33-2d8567158e63>:9: Layer.add_variable (from tensorflow.python.keras.engine.base_layer) is deprecated and will be removed in a future version.\n",
      "Instructions for updating:\n",
      "Please use `layer.add_weight` method instead.\n"
     ]
    },
    {
     "ename": "AttributeError",
     "evalue": "module 'tensorflow_probability' has no attribute 'positive_semidefinite_kernels'",
     "output_type": "error",
     "traceback": [
      "\u001b[1;31m---------------------------------------------------------------------------\u001b[0m",
      "\u001b[1;31mAttributeError\u001b[0m                            Traceback (most recent call last)",
      "\u001b[1;32m<ipython-input-34-76fe32ae6a5a>\u001b[0m in \u001b[0;36m<module>\u001b[1;34m\u001b[0m\n\u001b[0;32m     12\u001b[0m         \u001b[0mevent_shape\u001b[0m\u001b[1;33m=\u001b[0m\u001b[1;33m[\u001b[0m\u001b[1;36m1\u001b[0m\u001b[1;33m]\u001b[0m\u001b[1;33m,\u001b[0m\u001b[1;33m\u001b[0m\u001b[1;33m\u001b[0m\u001b[0m\n\u001b[0;32m     13\u001b[0m         \u001b[0minducing_index_points_initializer\u001b[0m\u001b[1;33m=\u001b[0m\u001b[0mtf\u001b[0m\u001b[1;33m.\u001b[0m\u001b[0mconstant_initializer\u001b[0m\u001b[1;33m(\u001b[0m\u001b[0minducing_index_points_initializer\u001b[0m\u001b[1;33m)\u001b[0m\u001b[1;33m,\u001b[0m\u001b[1;33m\u001b[0m\u001b[1;33m\u001b[0m\u001b[0m\n\u001b[1;32m---> 14\u001b[1;33m         \u001b[0munconstrained_observation_noise_variance_initializer\u001b[0m\u001b[1;33m=\u001b[0m\u001b[1;33m(\u001b[0m\u001b[0mtf\u001b[0m\u001b[1;33m.\u001b[0m\u001b[0mconstant_initializer\u001b[0m\u001b[1;33m(\u001b[0m\u001b[0mnp\u001b[0m\u001b[1;33m.\u001b[0m\u001b[0marray\u001b[0m\u001b[1;33m(\u001b[0m\u001b[1;36m0.54\u001b[0m\u001b[1;33m)\u001b[0m\u001b[1;33m.\u001b[0m\u001b[0mastype\u001b[0m\u001b[1;33m(\u001b[0m\u001b[0mxs\u001b[0m\u001b[1;33m.\u001b[0m\u001b[0mdtype\u001b[0m\u001b[1;33m)\u001b[0m\u001b[1;33m)\u001b[0m\u001b[1;33m)\u001b[0m\u001b[1;33m\u001b[0m\u001b[1;33m\u001b[0m\u001b[0m\n\u001b[0m\u001b[0;32m     15\u001b[0m     )\n\u001b[0;32m     16\u001b[0m ])\n",
      "\u001b[1;32m~\\anaconda3\\lib\\site-packages\\tensorflow_probability\\python\\layers\\distribution_layer.py\u001b[0m in \u001b[0;36m__init__\u001b[1;34m(self, num_inducing_points, kernel_provider, event_shape, inducing_index_points_initializer, unconstrained_observation_noise_variance_initializer, variational_inducing_observations_scale_initializer, mean_fn, jitter, convert_to_tensor_fn, name)\u001b[0m\n\u001b[0;32m   1871\u001b[0m         name=name)\n\u001b[0;32m   1872\u001b[0m \u001b[1;33m\u001b[0m\u001b[0m\n\u001b[1;32m-> 1873\u001b[1;33m     \u001b[0mtmp_kernel\u001b[0m \u001b[1;33m=\u001b[0m \u001b[0mkernel_provider\u001b[0m\u001b[1;33m.\u001b[0m\u001b[0mkernel\u001b[0m\u001b[1;33m\u001b[0m\u001b[1;33m\u001b[0m\u001b[0m\n\u001b[0m\u001b[0;32m   1874\u001b[0m     \u001b[0mself\u001b[0m\u001b[1;33m.\u001b[0m\u001b[0m_dtype\u001b[0m \u001b[1;33m=\u001b[0m \u001b[0mtmp_kernel\u001b[0m\u001b[1;33m.\u001b[0m\u001b[0mdtype\u001b[0m\u001b[1;33m.\u001b[0m\u001b[0mas_numpy_dtype\u001b[0m\u001b[1;33m\u001b[0m\u001b[1;33m\u001b[0m\u001b[0m\n\u001b[0;32m   1875\u001b[0m     \u001b[0mself\u001b[0m\u001b[1;33m.\u001b[0m\u001b[0m_feature_ndims\u001b[0m \u001b[1;33m=\u001b[0m \u001b[0mtmp_kernel\u001b[0m\u001b[1;33m.\u001b[0m\u001b[0mfeature_ndims\u001b[0m\u001b[1;33m\u001b[0m\u001b[1;33m\u001b[0m\u001b[0m\n",
      "\u001b[1;32m<ipython-input-33-2d8567158e63>\u001b[0m in \u001b[0;36mkernel\u001b[1;34m(self)\u001b[0m\n\u001b[0;32m     21\u001b[0m     \u001b[1;33m@\u001b[0m\u001b[0mproperty\u001b[0m\u001b[1;33m\u001b[0m\u001b[1;33m\u001b[0m\u001b[0m\n\u001b[0;32m     22\u001b[0m     \u001b[1;32mdef\u001b[0m \u001b[0mkernel\u001b[0m\u001b[1;33m(\u001b[0m\u001b[0mself\u001b[0m\u001b[1;33m)\u001b[0m\u001b[1;33m:\u001b[0m\u001b[1;33m\u001b[0m\u001b[1;33m\u001b[0m\u001b[0m\n\u001b[1;32m---> 23\u001b[1;33m         return tfp.positive_semidefinite_kernels.ExponentiatedQuadratic(\n\u001b[0m\u001b[0;32m     24\u001b[0m             \u001b[0mamplitude\u001b[0m\u001b[1;33m=\u001b[0m\u001b[0mtf\u001b[0m\u001b[1;33m.\u001b[0m\u001b[0mnn\u001b[0m\u001b[1;33m.\u001b[0m\u001b[0msoftplus\u001b[0m\u001b[1;33m(\u001b[0m\u001b[1;36m0.1\u001b[0m \u001b[1;33m*\u001b[0m \u001b[0mself\u001b[0m\u001b[1;33m.\u001b[0m\u001b[0m_amplitude\u001b[0m\u001b[1;33m)\u001b[0m\u001b[1;33m,\u001b[0m\u001b[1;33m\u001b[0m\u001b[1;33m\u001b[0m\u001b[0m\n\u001b[0;32m     25\u001b[0m             length_scale=tf.nn.softplus(5.0 * self._length_scale))\n",
      "\u001b[1;31mAttributeError\u001b[0m: module 'tensorflow_probability' has no attribute 'positive_semidefinite_kernels'"
     ]
    }
   ],
   "source": [
    "num_inducing_points = 40\n",
    "inducing_index_points_initializer = np.linspace(*x_range, num=num_inducing_points, dtype=xs.dtype)[..., np.newaxis],\n",
    "\n",
    "model_case_5 = tfk.Sequential([\n",
    "    tfk.layers.InputLayer(input_shape=[1], dtype=xs.dtype),\n",
    "    tfk.layers.Dense(1, \n",
    "                     kernel_initializer=\"ones\", \n",
    "                     use_bias=False),\n",
    "    tfp.layers.VariationalGaussianProcess(\n",
    "        num_inducing_points=num_inducing_points,\n",
    "        kernel_provider=RBFKernelFn(dtype=xs.dtype),\n",
    "        event_shape=[1],\n",
    "        inducing_index_points_initializer=tf.constant_initializer(inducing_index_points_initializer),\n",
    "        unconstrained_observation_noise_variance_initializer=(tf.constant_initializer(np.array(0.54).astype(xs.dtype)))\n",
    "    )\n",
    "])\n",
    "\n",
    "batch_size = 32\n",
    "\n",
    "def variational_loss(y, rv_y):\n",
    "    return rv_y.variational_loss(y, \n",
    "                                 kl_weight=np.array(batch_size, xs.dtype) / xs.shape[0])\n",
    "\n",
    "model_case_5.compile(optimizer=tf.optimizers.Adam(learning_rate=0.01),\n",
    "                    loss=variational_loss)\n",
    "model_case_5.fit(xs, ys,\n",
    "                 batch_size=batch_size,\n",
    "                 epochs=800,\n",
    "                 verbose=False)"
   ]
  },
  {
   "cell_type": "code",
   "execution_count": null,
   "metadata": {},
   "outputs": [],
   "source": [
    "yhats = model_case_5(xs_test)\n",
    "\n",
    "plot_training_data()\n",
    "plt_left_title(\"Gaussian Process Regression\")\n",
    "plt_right_title(\"$ Y \\sim GPR(f(X)) $\")\n",
    "plt.ylim(ys.min() - 5, ys.max() + 5)\n",
    "\n",
    "n_gpr_samples = 50\n",
    "for _ in range(n_gpr_samples):\n",
    "    sample_ = yhats.sample().numpy()[..., 0]\n",
    "    plt.plot(xs_tst, sample_, \"#F8766D\", linewidth=0.9, alpha=0.4,\n",
    "             label=f\"{n_gpr_samples} GPR samples\" if _==0 else None)\n",
    "    \n",
    "plt.legend();"
   ]
  },
  {
   "cell_type": "code",
   "execution_count": null,
   "metadata": {},
   "outputs": [],
   "source": []
  },
  {
   "cell_type": "code",
   "execution_count": null,
   "metadata": {},
   "outputs": [],
   "source": [
    "# For numeric stability, set the default floating-point dtype to float64\n",
    "tf.keras.backend.set_floatx('float64')\n",
    "\n",
    "# Build model.\n",
    "num_inducing_points = 40\n",
    "model = tf.keras.Sequential([\n",
    "    tf.keras.layers.InputLayer(input_shape=[1]),\n",
    "    tf.keras.layers.Dense(1, kernel_initializer='ones', use_bias=False),\n",
    "    tfp.layers.VariationalGaussianProcess(\n",
    "        num_inducing_points=num_inducing_points,\n",
    "        kernel_provider=RBFKernelFn(),\n",
    "        event_shape=[1],\n",
    "        inducing_index_points_initializer=tf.constant_initializer(\n",
    "            np.linspace(*x_range, num=num_inducing_points,\n",
    "                        dtype=xs.dtype)[..., np.newaxis]),\n",
    "        unconstrained_observation_noise_variance_initializer=(\n",
    "            tf.constant_initializer(np.array(0.54).astype(xs.dtype))),\n",
    "    ),\n",
    "])\n",
    "\n",
    "# Do inference.\n",
    "batch_size = 32\n",
    "loss = lambda y, rv_y: rv_y.variational_loss(\n",
    "    y, kl_weight=np.array(batch_size, x.dtype) / x.shape[0])\n",
    "model.compile(optimizer=tf.optimizers.Adam(learning_rate=0.01), loss=loss)\n",
    "model.fit(x, y, batch_size=batch_size, epochs=1000, verbose=False)\n",
    "\n",
    "# Profit.\n",
    "yhat = model(x_tst)\n",
    "assert isinstance(yhat, tfd.Distribution)"
   ]
  },
  {
   "cell_type": "code",
   "execution_count": null,
   "metadata": {},
   "outputs": [],
   "source": []
  },
  {
   "cell_type": "code",
   "execution_count": null,
   "metadata": {},
   "outputs": [],
   "source": []
  },
  {
   "cell_type": "code",
   "execution_count": null,
   "metadata": {},
   "outputs": [],
   "source": []
  },
  {
   "cell_type": "code",
   "execution_count": null,
   "metadata": {},
   "outputs": [],
   "source": [
    "\n",
    "import tensorflow as tf\n",
    "import tensorflow_probability as tfp\n",
    "from tensorflow_probability.positive_semidefinite_kernel import util\n",
    "tfpk = tfp.math.psd_kernels\n"
   ]
  },
  {
   "cell_type": "code",
   "execution_count": null,
   "metadata": {},
   "outputs": [],
   "source": [
    "from tensorflow_probability import positive_semidefinite_kernels as tfk"
   ]
  },
  {
   "cell_type": "code",
   "execution_count": null,
   "metadata": {},
   "outputs": [],
   "source": [
    "from tensorflow_probability import distributions as tfd"
   ]
  },
  {
   "cell_type": "code",
   "execution_count": null,
   "metadata": {},
   "outputs": [],
   "source": []
  }
 ],
 "metadata": {
  "kernelspec": {
   "display_name": "Python 3",
   "language": "python",
   "name": "python3"
  },
  "language_info": {
   "codemirror_mode": {
    "name": "ipython",
    "version": 3
   },
   "file_extension": ".py",
   "mimetype": "text/x-python",
   "name": "python",
   "nbconvert_exporter": "python",
   "pygments_lexer": "ipython3",
   "version": "3.7.6"
  }
 },
 "nbformat": 4,
 "nbformat_minor": 4
}

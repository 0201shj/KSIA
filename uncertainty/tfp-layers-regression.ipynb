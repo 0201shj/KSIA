{
 "cells": [
  {
   "cell_type": "markdown",
   "metadata": {},
   "source": [
    "# Regression with Probabilistic Layers in TensorFlow Probability\n",
    "\n",
    "An up to-date version of [Regression with Probabilistic Layers in TensorFlow Probability](https://medium.com/tensorflow/regression-with-probabilistic-layers-in-tensorflow-probability-e46ff5d37baf). Working code also exists in this [colab](https://colab.research.google.com/github/tensorflow/probability/blob/master/tensorflow_probability/examples/jupyter_notebooks/Probabilistic_Layers_Regression.ipynb#scrollTo=Fp4qEWSRzc8m).\n",
    "\n",
    "The code below is just the imports and creating the dataset."
   ]
  },
  {
   "cell_type": "code",
   "execution_count": null,
   "metadata": {
    "_kg_hide-output": true
   },
   "outputs": [],
   "source": [
    "!pip install tensorflow==1.14"
   ]
  },
  {
   "cell_type": "code",
   "execution_count": null,
   "metadata": {
    "_cell_guid": "b1076dfc-b9ad-4769-8c92-a6c4dae69d19",
    "_kg_hide-input": true,
    "_uuid": "8f2839f25d086af736a60e9eeb907d3b93b6e0e5"
   },
   "outputs": [],
   "source": [
    "# computational\n",
    "import numpy as np\n",
    "import tensorflow as tf\n",
    "import tensorflow_probability as tfp\n",
    "\n",
    "# functional programming\n",
    "from functools import partial\n",
    "\n",
    "# plotting\n",
    "import matplotlib.pyplot as plt\n",
    "\n",
    "# plot utilities\n",
    "%matplotlib inline\n",
    "plt.style.use('ggplot')\n",
    "def plt_left_title(title): plt.title(title, loc=\"left\", fontsize=18)\n",
    "def plt_right_title(title): plt.title(title, loc='right', fontsize=13, color='grey')\n",
    "\n",
    "# use eager execution for better ease-of-use and readability\n",
    "tf.enable_eager_execution()\n",
    "\n",
    "# aliases\n",
    "tfk = tf.keras\n",
    "tfd = tfp.distributions\n",
    "\n",
    "print(f\"            tensorflow version: {tf.__version__}\")\n",
    "print(f\"tensorflow probability version: {tfp.__version__}\")"
   ]
  },
  {
   "cell_type": "code",
   "execution_count": null,
   "metadata": {
    "_cell_guid": "79c7e3d0-c299-4dcb-8224-4455121ee9b0",
    "_kg_hide-input": true,
    "_uuid": "d629ff2d2480ee46fbb7e2d37f6b5fab8052498a"
   },
   "outputs": [],
   "source": [
    "# create sample dataset\n",
    "w0, b0 = 0.125, 5.0\n",
    "\n",
    "n_samples = 150\n",
    "\n",
    "x_range = [-20, 60]\n",
    "x_domain = np.linspace(*x_range, n_samples)\n",
    "\n",
    "def load_dataset(n=150, n_tst=n_samples):\n",
    "    np.random.seed(27)\n",
    "    def s(x):\n",
    "        g = (x - x_range[0]) / (x_range[1] - x_range[0])\n",
    "        return 3 * (0.25 + g**2.)\n",
    "    x = (x_range[1] - x_range[0]) * np.random.rand(n) + x_range[0]\n",
    "    eps = np.random.randn(n) * s(x)\n",
    "    y = (w0 * x * (1. + np.sin(x)) + b0) + eps\n",
    "    x = x[..., np.newaxis]\n",
    "    x_tst = np.linspace(*x_range, num=n_tst).astype(np.float32)\n",
    "    x_tst = x_tst[..., np.newaxis]\n",
    "    return y, x, x_tst\n",
    "\n",
    "ys, xs, xs_test = load_dataset()\n",
    "\n",
    "def plot_training_data(): \n",
    "    plt.figure(figsize=(12, 7))\n",
    "    plt.scatter(xs, ys, c=\"#619CFF\", label=\"training data\")\n",
    "    plt.xlabel(\"x\")\n",
    "    plt.ylabel(\"y\")\n",
    "\n",
    "plot_training_data()\n",
    "plt_left_title(\"Training Data\");"
   ]
  },
  {
   "cell_type": "markdown",
   "metadata": {},
   "source": [
    "# Case 1: Simple Linear Regression\n",
    "\n",
    "The model below is a linear regression model written as a Neural Network with:\n",
    "\n",
    "- one-dimensional input (the `xs` data)\n",
    "- a hidden layer with one node, and bias\n",
    "- an output layer that is a Normal distribution with constant variance\n",
    "\n",
    "By training the Neural Network, we are finding the weights $w_0$ and $b_0$ such that\n",
    "\n",
    "$$\n",
    "f(x) \\sim N(w_0 x + b_0, 1)\n",
    "$$\n",
    "\n",
    "So the model outputs a distribution, rather than a number. We find these weights in the usual way, by minimizing a loss function. For this model, and all upcoming models, the loss is the negative log-likelihood of the output distribution. \n",
    "\n",
    "Tensorflow Probability Distributions have a `log_prob` method, so that's what we'll use.\n",
    "\n",
    "![](http://)We fit the model below."
   ]
  },
  {
   "cell_type": "code",
   "execution_count": null,
   "metadata": {},
   "outputs": [],
   "source": [
    "def neg_log_lik(y, rv_y):\n",
    "    \"\"\"Evaluate negative log-likelihood of a random variable `rv_y` for data `y`\"\"\"\n",
    "    return -rv_y.log_prob(y)"
   ]
  },
  {
   "cell_type": "code",
   "execution_count": null,
   "metadata": {},
   "outputs": [],
   "source": [
    "# model outputs normal distribution with constant variance\n",
    "model_case_1 = tfk.Sequential([\n",
    "    tfk.layers.Dense(1),\n",
    "    tfp.layers.DistributionLambda(\n",
    "        lambda t: tfd.Normal(loc=t, scale=1.0)\n",
    "    )\n",
    "])\n",
    "\n",
    "# train the model\n",
    "model_case_1.compile(optimizer=tf.train.AdamOptimizer(learning_rate=0.01), \n",
    "                    loss=neg_log_lik)\n",
    "model_case_1.fit(xs, ys, \n",
    "                 epochs=500,\n",
    "                 verbose=False)\n",
    "\n",
    "print(f\"predicted w : {model_case_1.layers[-2].kernel.numpy()}\")\n",
    "print(f\"predicted b : {model_case_1.layers[-2].bias.numpy()}\")"
   ]
  },
  {
   "cell_type": "markdown",
   "metadata": {},
   "source": [
    "Recall that this model outputs a distribution for any input `x`. In this case, the mean of the distribution for any input `x` is $w_0 x + b_0$. That's the equation for a line, so we should expect to see a straight line when we plot the model's mean predictions of each `x` in our test set."
   ]
  },
  {
   "cell_type": "code",
   "execution_count": null,
   "metadata": {
    "_kg_hide-input": true
   },
   "outputs": [],
   "source": [
    "# predict xs\n",
    "yhat = model_case_1(xs_test)\n",
    "\n",
    "plot_training_data()\n",
    "plt_left_title(\"No Uncertainty\")\n",
    "plt_right_title(\"$Y \\sim N(w_0 x + b_0, 1)$\")\n",
    "# plot predicted means for each x\n",
    "plt.plot(x_domain, yhat.mean(), \"#F8766D\", linewidth=5, label=\"mean\")\n",
    "plt.legend();"
   ]
  },
  {
   "cell_type": "markdown",
   "metadata": {},
   "source": [
    "# Case 2: Aleatoric Uncertainty\n",
    "\n",
    "Notice from the training data that:\n",
    "\n",
    "- There is variability in the $y$ for any particular value of $x$\n",
    "- The variance of $y$ seems to be related to $x$ (e.g. it increases as $x$ does)\n",
    "\n",
    "Now we're constructing a model that has:\n",
    "\n",
    "- one-dimensional input\n",
    "- a hidden layer with two nodes\n",
    "- an output layer that yields a Normal distribution with non-constant variance\n",
    "\n",
    "In this case, our model is more complex:\n",
    "\n",
    "$$\n",
    "f(x) \\sim N(\\mu (x), \\sigma(x))\n",
    "$$\n",
    "\n",
    "* Where $\\mu$ is a linear function, and $\\sigma$ is a [softplus function](https://en.wikipedia.org/wiki/Rectifier_(neural_networks). Once again, we use negative log-likelihood as our loss function."
   ]
  },
  {
   "cell_type": "code",
   "execution_count": null,
   "metadata": {},
   "outputs": [],
   "source": [
    "def normal_scale_uncertainty(t, softplus_scale=0.05):\n",
    "    \"\"\"Create distribution with variable mean and variance\"\"\"\n",
    "    ts = t[..., :1]\n",
    "    return tfd.Normal(loc = ts,\n",
    "                      scale = 1e-3 + tf.math.softplus(softplus_scale * ts))"
   ]
  },
  {
   "cell_type": "code",
   "execution_count": null,
   "metadata": {},
   "outputs": [],
   "source": [
    "# model outputs normal distribution with mean and variance that \n",
    "# depend on the input\n",
    "model_case_2 = tfk.Sequential([\n",
    "    tfk.layers.Dense(2),\n",
    "    tfp.layers.DistributionLambda(normal_scale_uncertainty)\n",
    "])\n",
    "\n",
    "model_case_2.compile(optimizer=tf.train.AdamOptimizer(learning_rate=0.05),\n",
    "                    loss=neg_log_lik)\n",
    "model_case_2.fit(xs, ys,\n",
    "                epochs=500,\n",
    "                verbose=False)\n",
    "\n",
    "print(\"Model 2 weights:\")\n",
    "[print(np.squeeze(w.numpy())) for w in model_case_2.weights];"
   ]
  },
  {
   "cell_type": "markdown",
   "metadata": {},
   "source": [
    "The plot below suggests a linear relationship between $x$ and $y$, but it shows that as $x$ gets larger, there is more variance in the prediction $y$. \n",
    "\n",
    "This is called [**aleatoric uncertainty**](https://en.wikipedia.org/wiki/Uncertainty_quantification#Aleatoric_and_epistemic_uncertainty), which refers to the unknowns that differ each time data is collected."
   ]
  },
  {
   "cell_type": "code",
   "execution_count": null,
   "metadata": {
    "_kg_hide-input": true
   },
   "outputs": [],
   "source": [
    "# predict normal distributions for each x\n",
    "yhat = model_case_2(xs_test)\n",
    "\n",
    "# get mean and variance\n",
    "yhat_mean = yhat.mean()\n",
    "yhat_std = yhat.stddev()\n",
    "\n",
    "plot_training_data()\n",
    "plt_left_title(\"Aleatoric Uncertainty\")\n",
    "plt_right_title(\"$Y \\sim N(\\mu (x), \\sigma (x))$\")\n",
    "# plot mean\n",
    "plt.plot(x_domain, yhat_mean, \"#F8766D\", linewidth=5, label=\"mean\")\n",
    "# plot 2 stddev from mean\n",
    "plt.fill_between(x_domain,\n",
    "                 (yhat_mean + 2 * yhat_std)[:, 0], \n",
    "                 (yhat_mean - 2 * yhat_std)[:, 0],\n",
    "                 facecolor=\"#00BA38\", alpha=0.3,\n",
    "                 label=\"$\\pm$ 2 stddev\")\n",
    "plt.legend();"
   ]
  },
  {
   "cell_type": "markdown",
   "metadata": {},
   "source": [
    "# Case 3: Epistemic Uncertainty\n",
    "\n",
    "We're assuming a linear relationship between $x$ and $y$, and our last two models gave exact estimates of the weights (e.g. $w_0$ and $b_0$). But how certain are we of those _exact_ estimates?\n",
    "\n",
    "What if we could consider many candidates for the weights all at once? Perhaps we could assume that the weights are normally distributed--the mean weight is our best guess, but we're willing to consider things near it as the true weight too.\n",
    "\n",
    "Now the weights are Normal distributions, instead of numbers. In order to train the neural network, we use something called variational inference. That's outside the scope of this discussion, but just know that TensorFlow Probability's `DenseVariational` layer handles this step.\n",
    "\n",
    "Now our model has\n",
    "\n",
    "- a one-dimensional input layer\n",
    "- a `DenseVariational` layer, which treats the weights as distributions, rather than numbers\n",
    "- an output layer that yields a Normal distribution with constant variance\n",
    "\n",
    "And it has the functional form\n",
    "\n",
    "$$\n",
    "f(x) \\sim N(Wx + B, 1)\n",
    "$$\n",
    "\n",
    "Where $W$ and $B$ are normally-distributed random variables. "
   ]
  },
  {
   "cell_type": "code",
   "execution_count": null,
   "metadata": {},
   "outputs": [],
   "source": [
    "def posterior_mean_field(kernel_size, bias_size=0, dtype=None):\n",
    "    n = kernel_size + bias_size\n",
    "    c = np.log(np.expm1(1.0))\n",
    "    \n",
    "    return tfk.Sequential([\n",
    "        tfp.layers.VariableLayer(2 * n, dtype=dtype),\n",
    "        tfp.layers.DistributionLambda(lambda t: tfd.Independent(\n",
    "            tfd.Normal(loc=t[..., :n], \n",
    "                       scale=1e-5 + tf.nn.softplus(c + t[..., n:])),\n",
    "            reinterpreted_batch_ndims=1))\n",
    "    ])\n",
    "\n",
    "def prior_trainable(kernel_size, bias_size=0, dtype=None):\n",
    "    n = kernel_size + bias_size\n",
    "    \n",
    "    return tfk.Sequential([\n",
    "        tfp.layers.VariableLayer(n, dtype=dtype),\n",
    "        tfp.layers.DistributionLambda(lambda t: tfd.Independent(\n",
    "            tfd.Normal(loc=t, scale=1.0),\n",
    "            reinterpreted_batch_ndims=1))\n",
    "    ])"
   ]
  },
  {
   "cell_type": "code",
   "execution_count": null,
   "metadata": {},
   "outputs": [],
   "source": [
    "model_case_3 = tfk.Sequential([\n",
    "    tfp.layers.DenseVariational(1, \n",
    "                            posterior_mean_field, \n",
    "                            prior_trainable),\n",
    "    tfp.layers.DistributionLambda(\n",
    "        lambda t: tfd.Normal(loc=t, scale=1.0)\n",
    "    )\n",
    "])\n",
    "\n",
    "model_case_3.compile(optimizer=tf.train.AdamOptimizer(learning_rate=0.01),\n",
    "                     loss=neg_log_lik)\n",
    "model_case_3.fit(xs, ys,\n",
    "                 epochs=1000,\n",
    "                 verbose=False)\n",
    "\n",
    "print(\"Model 3 weights:\")\n",
    "[print(np.squeeze(w.numpy())) for w in model_case_3.weights];"
   ]
  },
  {
   "cell_type": "markdown",
   "metadata": {},
   "source": [
    "Each time we call `model_case_3(xs_test)`, it will give us a different answer. This is because the model is sampling from the distributions imposed on the weights.\n",
    "\n",
    "This means that we need to make predictions multiple times to understand how the distributions on the weights affect the final prediction. In this case we'll take 50 samples, which means there will be 50 guesses as to what the linear relationship between $x$ and $y$ is.\n",
    "\n",
    "This is called [**epistemic uncertainty**](https://en.wikipedia.org/wiki/Uncertainty_quantification#Aleatoric_and_epistemic_uncertainty), which represents the unknown factors in your model, your sensor, etc. "
   ]
  },
  {
   "cell_type": "code",
   "execution_count": null,
   "metadata": {
    "_kg_hide-input": true
   },
   "outputs": [],
   "source": [
    "# sample posterior\n",
    "n_posterior_samples = 50\n",
    "yhats = [model_case_3(xs_test) for _ in range(n_posterior_samples)]\n",
    "\n",
    "plot_training_data()\n",
    "plt_left_title(\"Epistemic Uncertainty\")\n",
    "plt_right_title(\"$Y \\sim N(W x + B, 1)$\")\n",
    "\n",
    "# plot means for each posterior sample\n",
    "for i, yhat in enumerate(yhats):\n",
    "    plt.plot(xs_test, yhat.mean(), \n",
    "             '#F8766D', linewidth=0.5, alpha=0.5, \n",
    "             label=f\"{n_posterior_samples} sample means\" if i==0 else None)\n",
    "\n",
    "# plot overall mean\n",
    "yhats_mean = sum(yh.mean() for yh in yhats) / len(yhats)\n",
    "plt.plot(xs_test, yhats_mean, 'darkred', linewidth=3, label=\"aggregate mean\")\n",
    "plt.legend();"
   ]
  },
  {
   "cell_type": "markdown",
   "metadata": {},
   "source": [
    "# Case 4: Aleatoric & Epistemic Uncertainty\n",
    "\n",
    "We can include both types of uncertainty in our model. For each of the models we consider due to epistemic uncertainty, we can incorporate aleatoric uncertainty."
   ]
  },
  {
   "cell_type": "code",
   "execution_count": null,
   "metadata": {},
   "outputs": [],
   "source": [
    "model_case_4 = tfk.Sequential([\n",
    "    tfp.layers.DenseVariational(2, \n",
    "                                posterior_mean_field,\n",
    "                                prior_trainable),\n",
    "    tfp.layers.DistributionLambda(partial(normal_scale_uncertainty, softplus_scale=0.01))\n",
    "])\n",
    "\n",
    "model_case_4.compile(optimizer=tf.train.AdamOptimizer(learning_rate=0.01),\n",
    "                     loss=neg_log_lik)\n",
    "model_case_4.fit(xs, ys,\n",
    "                 epochs=1000,\n",
    "                 verbose=False)\n",
    "\n",
    "print(\"Model 4 weights:\")\n",
    "[print(np.squeeze(w.numpy())) for w in model_case_4.weights];"
   ]
  },
  {
   "cell_type": "code",
   "execution_count": null,
   "metadata": {
    "_kg_hide-input": true
   },
   "outputs": [],
   "source": [
    "yhats = [model_case_4(xs_test) for _ in range(7)]\n",
    "\n",
    "plot_training_data()\n",
    "plt_left_title(\"Aleatoric & Epistemic Uncertainty\")\n",
    "plt_right_title(\"$Y \\sim N ( W x + B, \\sigma(X) )$\")\n",
    "plt.ylim(ys.min() - 5, ys.max() + 5)\n",
    "\n",
    "# for each posterior sample, plot mean plus/minus 2 std\n",
    "for i, yhat in enumerate(yhats):\n",
    "    m = yhat.mean()[:, 0]\n",
    "    s = yhat.stddev()[:, 0]\n",
    "\n",
    "    plt.plot(xs_test, m, \"#F8766D\", linewidth=0.7, \n",
    "             label=f\"{len(yhats)} sample means\" if i==0 else None)\n",
    "    plt.fill_between(xs_test[:, 0],\n",
    "                     m - 2 * s, m + 2 * s,\n",
    "                     facecolor=\"#00BA38\", alpha=0.1,\n",
    "                     label=f\"2 stddev\" if i==0 else None)\n",
    "    \n",
    "# plot overall mean\n",
    "yhats_mean = sum(yh.mean() for yh in yhats) / len(yhats)\n",
    "plt.plot(xs_test, yhats_mean, 'darkred', linewidth=3, label=\"aggregate mean\")\n",
    "\n",
    "plt.legend();"
   ]
  },
  {
   "cell_type": "markdown",
   "metadata": {},
   "source": [
    "# Case 5: Functional Uncertainty"
   ]
  },
  {
   "cell_type": "code",
   "execution_count": null,
   "metadata": {},
   "outputs": [],
   "source": [
    "class RBFKernelFn(tfk.layers.Layer):\n",
    "    def __init__(self, **kwargs):\n",
    "        super(RBFKernelFn, self).__init__(**kwargs)\n",
    "        dtype = kwargs.get('dtype', None)\n",
    "        \n",
    "        self._amplitude = self.add_variable(\n",
    "            initializer=tf.constant_initializer(0),\n",
    "            dtype=dtype,\n",
    "            name=\"amplitude\"\n",
    "        )\n",
    "        \n",
    "        self._length_scale = self.add_variable(\n",
    "            initializer=tf.constant_initializer(0),\n",
    "            dtype=dtype,\n",
    "            name=\"length_scale\"\n",
    "        )\n",
    "    \n",
    "    def call(self, x):\n",
    "        return x\n",
    "    \n",
    "    @property\n",
    "    def kernel(self):\n",
    "        return tfp.positive_semidefinite_kernels.ExponentiatedQuadratic(\n",
    "            amplitude=tf.nn.softplus(0.1 * self._amplitude),\n",
    "            length_scale=tf.nn.softplus(5.0 * self._length_scale))"
   ]
  },
  {
   "cell_type": "code",
   "execution_count": null,
   "metadata": {},
   "outputs": [],
   "source": [
    "num_inducing_points = 40\n",
    "inducing_index_points_initializer = np.linspace(*x_range, num=num_inducing_points, dtype=xs.dtype)[..., np.newaxis],\n",
    "\n",
    "model_case_5 = tfk.Sequential([\n",
    "    tfk.layers.InputLayer(input_shape=[1], dtype=xs.dtype),\n",
    "    tfk.layers.Dense(1, \n",
    "                     kernel_initializer=\"ones\", \n",
    "                     use_bias=False),\n",
    "    tfp.layers.VariationalGaussianProcess(\n",
    "        num_inducing_points=num_inducing_points,\n",
    "        kernel_provider=RBFKernelFn(dtype=xs.dtype),\n",
    "        event_shape=[1],\n",
    "        inducing_index_points_initializer=tf.constant_initializer(inducing_index_points_initializer),\n",
    "        unconstrained_observation_noise_variance_initializer=(tf.constant_initializer(np.array(0.54).astype(xs.dtype)))\n",
    "    )\n",
    "])\n",
    "\n",
    "batch_size = 32\n",
    "\n",
    "def variational_loss(y, rv_y):\n",
    "    return rv_y.variational_loss(y, \n",
    "                                 kl_weight=np.array(batch_size, xs.dtype) / xs.shape[0])\n",
    "\n",
    "model_case_5.compile(optimizer=tf.train.AdamOptimizer(learning_rate=0.01),\n",
    "                    loss=variational_loss)\n",
    "model_case_5.fit(xs, ys,\n",
    "                 batch_size=batch_size,\n",
    "                 epochs=800,\n",
    "                 verbose=False)"
   ]
  },
  {
   "cell_type": "code",
   "execution_count": null,
   "metadata": {
    "_kg_hide-input": true
   },
   "outputs": [],
   "source": [
    "yhats = model_case_5(xs_test)\n",
    "\n",
    "plot_training_data()\n",
    "plt_left_title(\"Gaussian Process Regression\")\n",
    "plt_right_title(\"$ Y \\sim GPR(f(X)) $\")\n",
    "plt.ylim(ys.min() - 5, ys.max() + 5)\n",
    "\n",
    "n_gpr_samples = 50\n",
    "for _ in range(n_gpr_samples):\n",
    "    sample_ = yhats.sample().numpy()[..., 0]\n",
    "    plt.plot(xs_test, sample_, \"#F8766D\", linewidth=0.9, alpha=0.4,\n",
    "             label=f\"{n_gpr_samples} GPR samples\" if _==0 else None)\n",
    "    \n",
    "plt.legend();"
   ]
  }
 ],
 "metadata": {
  "kernelspec": {
   "display_name": "Python 3",
   "language": "python",
   "name": "python3"
  },
  "language_info": {
   "codemirror_mode": {
    "name": "ipython",
    "version": 3
   },
   "file_extension": ".py",
   "mimetype": "text/x-python",
   "name": "python",
   "nbconvert_exporter": "python",
   "pygments_lexer": "ipython3",
   "version": "3.7.6"
  }
 },
 "nbformat": 4,
 "nbformat_minor": 4
}
